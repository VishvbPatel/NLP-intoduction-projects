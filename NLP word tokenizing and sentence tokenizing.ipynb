{
 "cells": [
  {
   "cell_type": "markdown",
   "metadata": {},
   "source": [
    "# NLP word tokenizing and sentence tokenizing"
   ]
  },
  {
   "cell_type": "markdown",
   "metadata": {},
   "source": [
    "In this document, the introductory code for NLTK has been included. First, from the NLTK library, word_tokenize and sent_tokenize has been imported to perform the tokenize operation. And then one example sentence has been added to perform the operation. After that, both the word tokenize and sentence tokenize operation has been printed."
   ]
  },
  {
   "cell_type": "code",
   "execution_count": 1,
   "metadata": {},
   "outputs": [],
   "source": [
    "from nltk import word_tokenize, sent_tokenize #importing the word_tokenize and sent_tokenize from NLTK library"
   ]
  },
  {
   "cell_type": "code",
   "execution_count": 2,
   "metadata": {},
   "outputs": [],
   "source": [
    "Sentence = \"Hello Mr. Adam, how are you today? Good weather isn't it? Not a day to stay inside home.\" #making example sentence for the operation"
   ]
  },
  {
   "cell_type": "code",
   "execution_count": 3,
   "metadata": {},
   "outputs": [
    {
     "name": "stdout",
     "output_type": "stream",
     "text": [
      "['Hello', 'Mr.', 'Adam', ',', 'how', 'are', 'you', 'today', '?', 'Good', 'weather', 'is', \"n't\", 'it', '?', 'Not', 'a', 'day', 'to', 'stay', 'inside', 'home', '.']\n"
     ]
    }
   ],
   "source": [
    "print(word_tokenize(Sentence)) #printing word tokenize operation"
   ]
  },
  {
   "cell_type": "code",
   "execution_count": 4,
   "metadata": {},
   "outputs": [
    {
     "name": "stdout",
     "output_type": "stream",
     "text": [
      "['Hello Mr. Adam, how are you today?', \"Good weather isn't it?\", 'Not a day to stay inside home.']\n"
     ]
    }
   ],
   "source": [
    "print(sent_tokenize(Sentence)) #printing sentence tokenize operation"
   ]
  },
  {
   "cell_type": "code",
   "execution_count": 8,
   "metadata": {},
   "outputs": [
    {
     "name": "stdout",
     "output_type": "stream",
     "text": [
      "Hello\n",
      "Mr.\n",
      "Adam\n",
      ",\n",
      "how\n",
      "are\n",
      "you\n",
      "today\n",
      "?\n",
      "Good\n",
      "weather\n",
      "is\n",
      "n't\n",
      "it\n",
      "?\n",
      "Not\n",
      "a\n",
      "day\n",
      "to\n",
      "stay\n",
      "inside\n",
      "home\n",
      ".\n"
     ]
    }
   ],
   "source": [
    "for i in word_tokenize(Sentence):  #printing word tokenize operation \n",
    "        print(i)"
   ]
  },
  {
   "cell_type": "code",
   "execution_count": 9,
   "metadata": {},
   "outputs": [
    {
     "name": "stdout",
     "output_type": "stream",
     "text": [
      "Hello Mr. Adam, how are you today?\n",
      "Good weather isn't it?\n",
      "Not a day to stay inside home.\n"
     ]
    }
   ],
   "source": [
    "for i in sent_tokenize(Sentence):    #printing sentence tokenize operation\n",
    "    print(i)"
   ]
  }
 ],
 "metadata": {
  "kernelspec": {
   "display_name": "Python 3",
   "language": "python",
   "name": "python3"
  },
  "language_info": {
   "codemirror_mode": {
    "name": "ipython",
    "version": 3
   },
   "file_extension": ".py",
   "mimetype": "text/x-python",
   "name": "python",
   "nbconvert_exporter": "python",
   "pygments_lexer": "ipython3",
   "version": "3.7.4"
  }
 },
 "nbformat": 4,
 "nbformat_minor": 4
}
