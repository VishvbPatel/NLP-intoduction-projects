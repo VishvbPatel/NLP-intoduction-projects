{
 "cells": [
  {
   "cell_type": "markdown",
   "metadata": {},
   "source": [
    "# NLP Text Classification with Naive Bayes Model"
   ]
  },
  {
   "cell_type": "markdown",
   "metadata": {},
   "source": [
    "Here, the main idea behind this project is to make an classification model with the help of naive bayes to classify the movie reviews in positives and negatives. So, first, all the required libraries are imported. "
   ]
  },
  {
   "cell_type": "code",
   "execution_count": 47,
   "metadata": {},
   "outputs": [],
   "source": [
    "import nltk                            #importing the nltk library\n",
    "import random                          #importing random library\n",
    "from nltk.corpus import movie_reviews  #importing movie_reviews library from nltk"
   ]
  },
  {
   "cell_type": "markdown",
   "metadata": {},
   "source": [
    "Then, making a list of all the words in the movie reviews with their labels like positive and negative. And then shuffling all the reviews. After that, making another list of words in lower case and then making an frequency distribution of all the words. Then, making another list of first 3000 high frequency words."
   ]
  },
  {
   "cell_type": "code",
   "execution_count": 48,
   "metadata": {},
   "outputs": [],
   "source": [
    "documents = [(list(movie_reviews.words(fileid)), category)\n",
    "            for category in movie_reviews.categories()\n",
    "            for fileid in movie_reviews.fileids(category)] #making list of all the words in movie reviews with lables"
   ]
  },
  {
   "cell_type": "code",
   "execution_count": 49,
   "metadata": {},
   "outputs": [],
   "source": [
    "random.shuffle(documents) #shuffling all the reviews"
   ]
  },
  {
   "cell_type": "code",
   "execution_count": 50,
   "metadata": {},
   "outputs": [],
   "source": [
    "all_words = []\n",
    "for w in movie_reviews.words():\n",
    "    all_words.append(w.lower())  #making a list of all the words in the movie reviews in lower case"
   ]
  },
  {
   "cell_type": "code",
   "execution_count": 51,
   "metadata": {},
   "outputs": [],
   "source": [
    "all_words = nltk.FreqDist(all_words) #making a frequency distribution of all the words"
   ]
  },
  {
   "cell_type": "code",
   "execution_count": 52,
   "metadata": {},
   "outputs": [],
   "source": [
    "word_features = list(all_words.keys())[:3000] #making list of the first 3000 high frequency words "
   ]
  },
  {
   "cell_type": "markdown",
   "metadata": {},
   "source": [
    "Then, making a list based on whether they are present in the first 3000 high frequency list or not and then based on that again making set with categories to make a final training and testing set for the naive bayes classifier. "
   ]
  },
  {
   "cell_type": "code",
   "execution_count": 53,
   "metadata": {},
   "outputs": [],
   "source": [
    "def find_features(document):\n",
    "    words = set(document)\n",
    "    features = {}\n",
    "    for w in word_features:\n",
    "        features[w] = (w in words)\n",
    "    return features                  #making a list of words with the tag whether they are present in the word_features list or not"
   ]
  },
  {
   "cell_type": "code",
   "execution_count": 55,
   "metadata": {},
   "outputs": [
    {
     "data": {
      "text/plain": [
       "'featuresets = []\\nfor rev in document:\\n    featuresets.append(find_features(rev))\\nfor category in document:\\n        featuresets.append(category)'"
      ]
     },
     "execution_count": 55,
     "metadata": {},
     "output_type": "execute_result"
    }
   ],
   "source": [
    "featuresets = [(find_features(rev), category) for (rev, category) in documents] #making a set for training and testing with categories"
   ]
  },
  {
   "cell_type": "code",
   "execution_count": 56,
   "metadata": {},
   "outputs": [],
   "source": [
    "training_set = featuresets[:1900]  #training set\n",
    "testing_set = featuresets[1900:]   #testing set"
   ]
  },
  {
   "cell_type": "markdown",
   "metadata": {},
   "source": [
    "Finally, making a classifier object with naive bayes to train and test the dataset. Also printing the first 15 most informative features."
   ]
  },
  {
   "cell_type": "code",
   "execution_count": 59,
   "metadata": {},
   "outputs": [
    {
     "name": "stdout",
     "output_type": "stream",
     "text": [
      "Naive Bayes Algo Accuray percent: 84.0\n",
      "Most Informative Features\n",
      "                   sucks = True              neg : pos    =     10.1 : 1.0\n",
      "                  justin = True              neg : pos    =      9.6 : 1.0\n",
      "                 frances = True              pos : neg    =      9.1 : 1.0\n",
      "                 idiotic = True              neg : pos    =      8.6 : 1.0\n",
      "                  annual = True              pos : neg    =      8.4 : 1.0\n",
      "           unimaginative = True              neg : pos    =      7.6 : 1.0\n",
      "             silverstone = True              neg : pos    =      7.6 : 1.0\n",
      "              schumacher = True              neg : pos    =      7.3 : 1.0\n",
      "                  regard = True              pos : neg    =      7.1 : 1.0\n",
      "                  shoddy = True              neg : pos    =      6.9 : 1.0\n",
      "                  suvari = True              neg : pos    =      6.9 : 1.0\n",
      "                    mena = True              neg : pos    =      6.9 : 1.0\n",
      "               atrocious = True              neg : pos    =      6.5 : 1.0\n",
      "                obstacle = True              pos : neg    =      6.4 : 1.0\n",
      "                 cunning = True              pos : neg    =      6.4 : 1.0\n"
     ]
    }
   ],
   "source": [
    "classifier = nltk.NaiveBayesClassifier.train(training_set)   #making classifier object with naive bayes\n",
    "print(\"Naive Bayes Algo Accuray percent:\", (nltk.classify.accuracy(classifier, testing_set))*100) #prining the accuracy of testing set\n",
    "classifier.show_most_informative_features(15) #getting first 15 most informative features"
   ]
  },
  {
   "cell_type": "code",
   "execution_count": null,
   "metadata": {},
   "outputs": [],
   "source": []
  }
 ],
 "metadata": {
  "kernelspec": {
   "display_name": "Python 3",
   "language": "python",
   "name": "python3"
  },
  "language_info": {
   "codemirror_mode": {
    "name": "ipython",
    "version": 3
   },
   "file_extension": ".py",
   "mimetype": "text/x-python",
   "name": "python",
   "nbconvert_exporter": "python",
   "pygments_lexer": "ipython3",
   "version": "3.7.4"
  }
 },
 "nbformat": 4,
 "nbformat_minor": 4
}
