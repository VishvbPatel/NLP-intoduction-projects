{
 "cells": [
  {
   "cell_type": "markdown",
   "metadata": {},
   "source": [
    "# NLP stemming of word"
   ]
  },
  {
   "cell_type": "markdown",
   "metadata": {},
   "source": [
    "Here, the stemming process has been done on the words with same meaning but different prounciation like, Run, Running, Runner. So first, the \"PorterStemmer\" and \"word_tokenize\" libraries has been imported from nltk. Then a function \"ps\" has been created to perfrom the steeming operations with the help of \"PorterStemer\". Then example words have been included and the stemming operation has been performed on the example words. Then, example sentence has been included and after doing \"word_tokenize\" operation stemming has been performed and printed."
   ]
  },
  {
   "cell_type": "code",
   "execution_count": 1,
   "metadata": {},
   "outputs": [],
   "source": [
    "from nltk.stem import PorterStemmer       #importing \"PorterStemmer\"\n",
    "from nltk.tokenize import word_tokenize   #importing \"word_tokenize\""
   ]
  },
  {
   "cell_type": "code",
   "execution_count": 2,
   "metadata": {},
   "outputs": [],
   "source": [
    "ps = PorterStemmer()           #making ps function with \"PorterStemmer\""
   ]
  },
  {
   "cell_type": "code",
   "execution_count": 3,
   "metadata": {},
   "outputs": [],
   "source": [
    "example_words = [\"python\",\"pythonly\",\"pythoning\",\"pythoned\",\"pythoner\"]  #making a list of example_words"
   ]
  },
  {
   "cell_type": "code",
   "execution_count": 5,
   "metadata": {},
   "outputs": [
    {
     "name": "stdout",
     "output_type": "stream",
     "text": [
      "python\n",
      "pythonli\n",
      "python\n",
      "python\n",
      "python\n"
     ]
    }
   ],
   "source": [
    "for w in example_words:\n",
    "    print(ps.stem(w))            #printing words after doing stemming operation"
   ]
  },
  {
   "cell_type": "code",
   "execution_count": 6,
   "metadata": {},
   "outputs": [],
   "source": [
    "exaple_sentence = \"pythoning is an art of a pythoner with regorous, pythonly pythoned python\"  #adding example sentence"
   ]
  },
  {
   "cell_type": "code",
   "execution_count": 7,
   "metadata": {},
   "outputs": [],
   "source": [
    "words = word_tokenize(exaple_sentence)     #tokenizing the words in the \"example sentence\""
   ]
  },
  {
   "cell_type": "code",
   "execution_count": 8,
   "metadata": {},
   "outputs": [
    {
     "name": "stdout",
     "output_type": "stream",
     "text": [
      "python\n",
      "is\n",
      "an\n",
      "art\n",
      "of\n",
      "a\n",
      "python\n",
      "with\n",
      "regor\n",
      ",\n",
      "pythonli\n",
      "python\n",
      "python\n"
     ]
    }
   ],
   "source": [
    "for w in words:\n",
    "    print(ps.stem(w))      #printing the words after stemming operation"
   ]
  }
 ],
 "metadata": {
  "kernelspec": {
   "display_name": "Python 3",
   "language": "python",
   "name": "python3"
  },
  "language_info": {
   "codemirror_mode": {
    "name": "ipython",
    "version": 3
   },
   "file_extension": ".py",
   "mimetype": "text/x-python",
   "name": "python",
   "nbconvert_exporter": "python",
   "pygments_lexer": "ipython3",
   "version": "3.7.4"
  }
 },
 "nbformat": 4,
 "nbformat_minor": 4
}
