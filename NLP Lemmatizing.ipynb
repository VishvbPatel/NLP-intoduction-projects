{
 "cells": [
  {
   "cell_type": "markdown",
   "metadata": {},
   "source": [
    "# NLP Lemmatizing"
   ]
  },
  {
   "cell_type": "markdown",
   "metadata": {},
   "source": [
    "Lemmatizing is similar to stemmin, which is to find the actual meaning of the words despite of their different prounciation like, run, running, etc. The main difference between stemming and lemmatizing is that, the stemming might not use the actual word while, the lemmatizing uses an actual word. Here, the \"WordNetLemmatizer\" is used from nltk library. And in the limmatizing, the different meaning of the words based on their type, whether they are noun, verb or adjective, different meaning of the words can be achieved. "
   ]
  },
  {
   "cell_type": "code",
   "execution_count": 1,
   "metadata": {},
   "outputs": [],
   "source": [
    "from nltk.stem import WordNetLemmatizer   #importing \"WordNetLemmatizer\" from nltk library"
   ]
  },
  {
   "cell_type": "code",
   "execution_count": 2,
   "metadata": {},
   "outputs": [],
   "source": [
    "lemmatizer = WordNetLemmatizer()        #making function from \"WordNetLemmatizer\""
   ]
  },
  {
   "cell_type": "code",
   "execution_count": 3,
   "metadata": {},
   "outputs": [
    {
     "name": "stdout",
     "output_type": "stream",
     "text": [
      "run\n"
     ]
    }
   ],
   "source": [
    "print(lemmatizer.lemmatize(\"run\"))      #using lemmatizer to find meaning of the words"
   ]
  },
  {
   "cell_type": "code",
   "execution_count": 7,
   "metadata": {},
   "outputs": [
    {
     "name": "stdout",
     "output_type": "stream",
     "text": [
      "run\n",
      "run\n",
      "run\n",
      "best\n",
      "good\n",
      "better\n"
     ]
    }
   ],
   "source": [
    "print(lemmatizer.lemmatize((\"runing\"), pos =\"v\")) #printing the meaning the \"running\" as an verb \n",
    "print(lemmatizer.lemmatize((\"run\"), pos = \"n\") ) #printing the meaning of \"running\" as a \"noun\"\n",
    "print(lemmatizer.lemmatize((\"run\"), pos = \"a\") ) #printing the meaning of \"running\" as an \"adjective\"\n",
    "print(lemmatizer.lemmatize((\"best\"), pos = \"a\") ) #printing the meaning of best as an \"adjective\"\n",
    "print(lemmatizer.lemmatize((\"better\"), pos = \"a\") ) #here, the better as an adjective is \"good\"\n",
    "print(lemmatizer.lemmatize((\"better\"), pos = \"n\") ) #while, the better as an noun is \"better\""
   ]
  }
 ],
 "metadata": {
  "kernelspec": {
   "display_name": "Python 3",
   "language": "python",
   "name": "python3"
  },
  "language_info": {
   "codemirror_mode": {
    "name": "ipython",
    "version": 3
   },
   "file_extension": ".py",
   "mimetype": "text/x-python",
   "name": "python",
   "nbconvert_exporter": "python",
   "pygments_lexer": "ipython3",
   "version": "3.7.4"
  }
 },
 "nbformat": 4,
 "nbformat_minor": 4
}
