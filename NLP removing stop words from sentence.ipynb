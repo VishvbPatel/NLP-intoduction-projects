{
 "cells": [
  {
   "cell_type": "markdown",
   "metadata": {},
   "source": [
    "# NLP removing stop words from sentence"
   ]
  },
  {
   "cell_type": "markdown",
   "metadata": {},
   "source": [
    "First, from the NLTK library stopwords and word_tokenize has been imported. Then, an example sentence has been added to perform the operation on it. "
   ]
  },
  {
   "cell_type": "code",
   "execution_count": 1,
   "metadata": {},
   "outputs": [],
   "source": [
    "from nltk.corpus import stopwords\n",
    "from nltk.tokenize import word_tokenize"
   ]
  },
  {
   "cell_type": "code",
   "execution_count": 2,
   "metadata": {},
   "outputs": [],
   "source": [
    "Sentence = \"Hello Mr. Adam, how are you today? Good weather isn't it? Not a day to stay inside home.\" #Adding sentence to perform operation"
   ]
  },
  {
   "cell_type": "markdown",
   "metadata": {},
   "source": [
    "Now, all the stop words from the english language has been included in \"stop_words\" with the help of \"stopwords\". And printing the list of stop words."
   ]
  },
  {
   "cell_type": "code",
   "execution_count": 3,
   "metadata": {},
   "outputs": [],
   "source": [
    "stop_words = set(stopwords.words(\"english\")) #making list of stop words in english language with the help of \"stopwords\" "
   ]
  },
  {
   "cell_type": "code",
   "execution_count": 4,
   "metadata": {},
   "outputs": [
    {
     "name": "stdout",
     "output_type": "stream",
     "text": [
      "{'can', 'my', 'this', 'where', 'his', \"weren't\", \"you'll\", 'an', 'both', 'now', 'if', 'am', 'its', \"wasn't\", 'mustn', 'be', \"won't\", 'don', \"shouldn't\", 'further', 'are', 'again', 's', 'then', \"shan't\", 'than', 'they', 'hadn', 'of', \"don't\", 'nor', 'whom', \"aren't\", 'you', 'in', 'were', 'below', 'ain', \"you've\", 'which', 'is', \"you're\", 'there', 'wasn', 've', 'been', 'most', \"hadn't\", 'have', \"doesn't\", 'into', 'between', \"mustn't\", 'was', 'hers', 'your', 'any', \"wouldn't\", 'too', 'only', 'about', 'why', 'after', 'just', 'during', 'above', 'other', \"isn't\", 'here', 'with', 'each', 'not', 'under', 'aren', 'me', 'for', 'few', 'i', 'did', 'when', 'm', \"you'd\", 'itself', 'same', 'against', 'didn', 'on', 'those', 'these', 'over', 'has', 'out', 'o', 'a', 't', 'while', 'should', 'ma', 'how', 'do', \"she's\", 'theirs', 'as', 'all', 'through', 're', 'the', 'or', \"should've\", 'd', 'ours', 'some', 'doing', 'yourselves', 'before', \"didn't\", 'yourself', 'their', \"it's\", 'herself', 'who', 'to', 'mightn', 'does', 'themselves', 'until', \"couldn't\", 'y', 'haven', \"that'll\", \"hasn't\", 'he', 'won', 'but', 'more', 'and', 'she', 'what', \"needn't\", 'very', 'll', 'no', 'doesn', 'myself', 'ourselves', 'that', 'down', 'such', \"mightn't\", 'shan', 'because', 'had', 'up', 'we', 'so', 'shouldn', 'will', 'him', 'couldn', 'having', 'at', 'it', 'own', 'from', \"haven't\", 'isn', 'wouldn', 'her', 'them', 'once', 'hasn', 'our', 'himself', 'weren', 'being', 'needn', 'off', 'yours', 'by'}\n"
     ]
    }
   ],
   "source": [
    "print(stop_words) #printing all the stopwords in english language"
   ]
  },
  {
   "cell_type": "markdown",
   "metadata": {},
   "source": [
    "Now, first, the word tokenizig operation has been done on the example sentence. Then, an empty folder named \"filtered_words\" has been made and all the words that are not in the stop words list but are present in the \"words\" folder are added to the \"filtered_words\" folder. And then, printing the \"filtered_words\"."
   ]
  },
  {
   "cell_type": "code",
   "execution_count": 5,
   "metadata": {},
   "outputs": [],
   "source": [
    "words = word_tokenize(Sentence) #tokenizing words from the example sentence "
   ]
  },
  {
   "cell_type": "code",
   "execution_count": 6,
   "metadata": {},
   "outputs": [
    {
     "name": "stdout",
     "output_type": "stream",
     "text": [
      "['Hello', 'Mr.', 'Adam', ',', 'today', '?', 'Good', 'weather', \"n't\", '?', 'Not', 'day', 'stay', 'inside', 'home', '.']\n"
     ]
    }
   ],
   "source": [
    "filtered_words =[]               #making an empty folder to add filtered words in it\n",
    "for w in words:                 \n",
    "    if w not in stop_words:\n",
    "        filtered_words.append(w)   #adding all the stop words in the \"filtered_words\" folder that are not in the \"stop_words\" list\n",
    "\n",
    "print(filtered_words)            #printing \"filtered_words\""
   ]
  },
  {
   "cell_type": "code",
   "execution_count": 7,
   "metadata": {},
   "outputs": [
    {
     "name": "stdout",
     "output_type": "stream",
     "text": [
      "['Hello', 'Mr.', 'Adam', ',', 'today', '?', 'Good', 'weather', \"n't\", '?', 'Not', 'day', 'stay', 'inside', 'home', '.']\n"
     ]
    }
   ],
   "source": [
    "filtered_words = [w for w in words if not w in stop_words] #filtering the words and adding it to the \"filtered_words\" folder\n",
    "\n",
    "print(filtered_words)   #printing \"filtered_words\" folder"
   ]
  }
 ],
 "metadata": {
  "kernelspec": {
   "display_name": "Python 3",
   "language": "python",
   "name": "python3"
  },
  "language_info": {
   "codemirror_mode": {
    "name": "ipython",
    "version": 3
   },
   "file_extension": ".py",
   "mimetype": "text/x-python",
   "name": "python",
   "nbconvert_exporter": "python",
   "pygments_lexer": "ipython3",
   "version": "3.7.4"
  }
 },
 "nbformat": 4,
 "nbformat_minor": 4
}
